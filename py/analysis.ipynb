{
 "cells": [
  {
   "cell_type": "code",
   "execution_count": 112,
   "id": "fc8cb591",
   "metadata": {},
   "outputs": [],
   "source": [
    "import pandas as pd\n",
    "import numpy as np\n",
    "\n",
    "import matplotlib.pyplot as plt\n",
    "\n",
    "from constants import SUBJECTS, ELECTRODES, FEATURE_FILENAME, RESULTS_FOLDER\n",
    "from configs import configs"
   ]
  },
  {
   "cell_type": "code",
   "execution_count": 113,
   "id": "253932b2",
   "metadata": {
    "scrolled": true
   },
   "outputs": [
    {
     "name": "stdout",
     "output_type": "stream",
     "text": [
      "(53202, 14)\n",
      "(52330, 14)\n"
     ]
    }
   ],
   "source": [
    "features = pd.read_csv(RESULTS_FOLDER / FEATURE_FILENAME)\n",
    "print(features.shape)\n",
    "\n",
    "threshold = 4 #in std\n",
    "features.loc[:,ELECTRODES] = features.loc[:,ELECTRODES][features.loc[:,ELECTRODES]<threshold]\n",
    "features = features.dropna()\n",
    "print(features.shape)\n",
    "features = features[features['game'] != '-']\n",
    "#features = features[features['band'] != 'beta']"
   ]
  },
  {
   "cell_type": "code",
   "execution_count": 129,
   "id": "dc8ed561",
   "metadata": {},
   "outputs": [
    {
     "name": "stdout",
     "output_type": "stream",
     "text": [
      "\\begin{table}[h]\n",
      "\\caption{gamma band power}\n",
      "\\label{gamma_data}\n",
      "\\begin{tabular}{lrrrll}\n",
      "game & baseline & mechanical & visual & test-mech & test-vis \\\\\n",
      "DOBBLE & -0.042 & 0.045 & 0.003 & *** & * \\\\\n",
      "FLAPPY & -0.284 & -0.184 & -0.274 & *** & - \\\\\n",
      "RUNSHOOT & -0.091 & -0.018 & -0.038 & *** & ** \\\\\n",
      "SORTER & 0.068 & 0.128 & -0.003 & *** & - \\\\\n",
      "\\end{tabular}\n",
      "\\end{table}\n",
      "\n",
      "\\begin{table}[h]\n",
      "\\caption{alpha band power}\n",
      "\\label{alpha_data}\n",
      "\\begin{tabular}{lrrrll}\n",
      "game & baseline & mechanical & visual & test-mech & test-vis \\\\\n",
      "DOBBLE & 0.104 & 0.080 & 0.046 & - & * \\\\\n",
      "FLAPPY & -0.213 & -0.173 & -0.218 & - & - \\\\\n",
      "RUNSHOOT & -0.156 & -0.140 & -0.134 & - & - \\\\\n",
      "SORTER & -0.009 & -0.033 & 0.045 & - & - \\\\\n",
      "\\end{tabular}\n",
      "\\end{table}\n",
      "\n"
     ]
    }
   ],
   "source": [
    "import math\n",
    "import scipy\n",
    "\n",
    "electrodes = ['T7', 'O1', 'C1', 'Fp1', 'O2', 'C2', 'Fp2', 'T8']\n",
    "\n",
    "features['fron'] = (features['Fp1'] + features['Fp2'])/2\n",
    "features['occ'] = (features['O1'] + features['O2'])/2\n",
    "features['par'] = (features['C1'] + features['C2'])/2\n",
    "\n",
    "features['all'] = features[electrodes].mean(axis=1)\n",
    "\n",
    "\n",
    "def determine_signif(p,thresh):\n",
    "    if p < thresh*1e-2:\n",
    "        return \"***\"\n",
    "    if p < thresh*1e-1:\n",
    "        return \"**\"\n",
    "    if p < thresh:\n",
    "        return \"*\"\n",
    "    else:\n",
    "        return '-'\n",
    "\n",
    "def minigame_stats(games, feature, thresh=0.05, d='greater'):\n",
    "    \n",
    "    version1 = games[games[\"difficulty\"] == \"1\"]\n",
    "    version2 = games[games[\"difficulty\"] == \"2\"]\n",
    "    version3 = games[games[\"difficulty\"] == \"3\"]\n",
    "\n",
    "    v1_v2_challenge_pvalue = scipy.stats.ttest_ind(version2[feature], version1[feature],\n",
    "                                                  alternative=d)[1]\n",
    "    v1_v3_challenge_pvalue = scipy.stats.ttest_ind(version3[feature], version1[feature],\n",
    "                                                  alternative=d)[1]\n",
    "    \n",
    "    sign = '<' if d == 'less' else '>'\n",
    "\n",
    "    return pd.Series({\"baseline\":version1[feature].mean(),\n",
    "                      \"mechanical\":version3[feature].mean(),\n",
    "                      \"visual\":version2[feature].mean(),\n",
    "                      \"test-mech\": determine_signif(v1_v3_challenge_pvalue,thresh),\n",
    "                      \"test-vis\": determine_signif(v1_v2_challenge_pvalue,thresh),\n",
    "                     })\n",
    "\n",
    "num_tests = 4\n",
    "thresh = 1-math.pow(1-0.05,1/num_tests)\n",
    "\n",
    "style_dic = {'baseline': \"{:.3f}\",\n",
    "             'visual': \"{:.3f}\",\n",
    "             'mechanical': \"{:.3f}\"\n",
    "            }\n",
    "\n",
    "for dire in ['greater', 'less']:\n",
    "    if dire == 'less':\n",
    "        band = 'alpha'\n",
    "    else:\n",
    "        band = 'gamma'\n",
    "\n",
    "    test = features.groupby(['game','band']).apply(lambda x: minigame_stats(x,'fron',thresh=thresh,d=dire))\n",
    "    df = test.reset_index()\n",
    "    df = df[df['band'] == band]\n",
    "    df = df.drop(columns='band')\n",
    "    df.reset_index(drop=True)\n",
    "    print(df.style.hide(axis=\"index\").format(style_dic).to_latex(caption=f'{band} band power',\n",
    "                                                                 label=f'{band}_data',\n",
    "                                                                 position='h'))"
   ]
  },
  {
   "cell_type": "code",
   "execution_count": 121,
   "id": "820f7272",
   "metadata": {},
   "outputs": [],
   "source": [
    "gameplay_quest = pd.read_csv(\"../Raw/subject_data.csv\")\n",
    "gameplay_quest[\"Challenge\"] = gameplay_quest[[\"Q1\", \"Q2\", \"Q3\", \"Q4\"]].sum(axis=1)"
   ]
  },
  {
   "cell_type": "code",
   "execution_count": 127,
   "id": "baeb9d6e",
   "metadata": {},
   "outputs": [
    {
     "name": "stdout",
     "output_type": "stream",
     "text": [
      "\\begin{table}[h]\n",
      "\\caption{Perceived difficulty score}\n",
      "\\label{questionnaire_data}\n",
      "\\begin{tabular}{lrrrll}\n",
      "game & baseline & mechanical & visual & test-mech & test-vis \\\\\n",
      "DOBBLE & 14.292 & 14.958 & 13.667 & - & - \\\\\n",
      "FLAPPY & 10.083 & 10.875 & 10.417 & - & - \\\\\n",
      "RUNSHOOT & 12.417 & 14.667 & 11.750 & * & - \\\\\n",
      "SORTER & 13.333 & 15.042 & 12.542 & - & - \\\\\n",
      "\\end{tabular}\n",
      "\\end{table}\n",
      "\n"
     ]
    }
   ],
   "source": [
    "def determine_signif(p,thresh):\n",
    "    if p < thresh*1e-2:\n",
    "        return \"***\"\n",
    "    if p < thresh*1e-1:\n",
    "        return \"**\"\n",
    "    if p < thresh:\n",
    "        return \"*\"\n",
    "    else:\n",
    "        return '-'\n",
    "\n",
    "def minigame_stats(games, feature=\"Challenge\", thresh=0.05):\n",
    "    \n",
    "    version1 = games[games[\"Version\"] == 1]\n",
    "    version2 = games[games[\"Version\"] == 2]\n",
    "    version3 = games[games[\"Version\"] == 3]\n",
    "\n",
    "    v1_v2_challenge_pvalue = scipy.stats.ttest_ind(version2[feature], version1[feature])[1]\n",
    "    v1_v3_challenge_pvalue = scipy.stats.ttest_ind(version3[feature], version1[feature])[1]\n",
    "\n",
    "    return pd.Series({\"baseline\":version1[feature].mean(),\n",
    "                      \"mechanical\":version3[feature].mean(),\n",
    "                      \"visual\":version2[feature].mean(),\n",
    "                      \"test-mech\": determine_signif(v1_v3_challenge_pvalue,thresh),\n",
    "                      \"test-vis\": determine_signif(v1_v2_challenge_pvalue,thresh),\n",
    "                     })\n",
    "\n",
    "num_tests = 2\n",
    "thresh = 1-math.pow(1-0.05,1/num_tests)\n",
    "\n",
    "style_dic = {'baseline': \"{:.3f}\",\n",
    "             'visual': \"{:.3f}\",\n",
    "             'mechanical': \"{:.3f}\"\n",
    "            }\n",
    "\n",
    "\n",
    "test = gameplay_quest.groupby(by=['MiniGame']).apply(lambda x: minigame_stats(x,thresh=thresh))\n",
    "df = test.reset_index()\n",
    "df = df.rename(columns={\"MiniGame\": \"game\"})\n",
    "df.reset_index(drop=True)\n",
    "print(df.style.hide(axis=\"index\").format(style_dic).to_latex(caption='Perceived difficulty score',\n",
    "                                                             label='questionnaire_data',position='h'))"
   ]
  }
 ],
 "metadata": {
  "kernelspec": {
   "display_name": "Python 3 (ipykernel)",
   "language": "python",
   "name": "python3"
  },
  "language_info": {
   "codemirror_mode": {
    "name": "ipython",
    "version": 3
   },
   "file_extension": ".py",
   "mimetype": "text/x-python",
   "name": "python",
   "nbconvert_exporter": "python",
   "pygments_lexer": "ipython3",
   "version": "3.10.8"
  }
 },
 "nbformat": 4,
 "nbformat_minor": 5
}
