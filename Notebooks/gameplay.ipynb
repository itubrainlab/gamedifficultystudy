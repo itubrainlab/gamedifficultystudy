{
 "cells": [
  {
   "cell_type": "code",
   "execution_count": 2,
   "metadata": {
    "collapsed": true
   },
   "outputs": [],
   "source": [
    "import pandas as pd\n",
    "import numpy as np\n",
    "import scipy\n",
    "import math"
   ]
  },
  {
   "cell_type": "code",
   "execution_count": 3,
   "outputs": [],
   "source": [
    "gameplay_quest = pd.read_csv(\"../Raw/subject_data.csv\")"
   ],
   "metadata": {
    "collapsed": false,
    "pycharm": {
     "name": "#%%\n"
    }
   }
  },
  {
   "cell_type": "code",
   "execution_count": 4,
   "outputs": [],
   "source": [
    "gameplay_quest[\"Challenge\"] = gameplay_quest[[\"Q1\", \"Q2\", \"Q3\", \"Q4\"]].sum(axis=1)"
   ],
   "metadata": {
    "collapsed": false,
    "pycharm": {
     "name": "#%%\n"
    }
   }
  },
  {
   "cell_type": "code",
   "execution_count": 9,
   "outputs": [
    {
     "data": {
      "text/plain": "          v1_challenge  v2_challenge  v3_challenge  v1_v2_challenge_p   \nMiniGame                                                                \nDOBBLE       14.291667     13.666667     14.958333           0.540946  \\\nFLAPPY       10.083333     10.416667     10.875000           0.715390   \nRUNSHOOT     12.416667     11.750000     14.666667           0.416109   \nSORTER       13.333333     12.541667     15.041667           0.394012   \n\n          v1_v3_challenge_p    v1_score    v2_score    v3_score   \nMiniGame                                                          \nDOBBLE             0.496399  361.666667  308.333333  366.875000  \\\nFLAPPY             0.387468  290.833333  289.583333  363.750000   \nRUNSHOOT           0.007975  119.833333  120.833333  135.500000   \nSORTER             0.048538  448.333333  422.916667  259.583333   \n\n          v1_v2_score_p  v1_v3_score_p  \nMiniGame                                \nDOBBLE         0.191038   8.842110e-01  \nFLAPPY         0.676120   1.400093e-16  \nRUNSHOOT       0.763221   7.181528e-06  \nSORTER         0.444100   1.021635e-06  ",
      "text/html": "<div>\n<style scoped>\n    .dataframe tbody tr th:only-of-type {\n        vertical-align: middle;\n    }\n\n    .dataframe tbody tr th {\n        vertical-align: top;\n    }\n\n    .dataframe thead th {\n        text-align: right;\n    }\n</style>\n<table border=\"1\" class=\"dataframe\">\n  <thead>\n    <tr style=\"text-align: right;\">\n      <th></th>\n      <th>v1_challenge</th>\n      <th>v2_challenge</th>\n      <th>v3_challenge</th>\n      <th>v1_v2_challenge_p</th>\n      <th>v1_v3_challenge_p</th>\n      <th>v1_score</th>\n      <th>v2_score</th>\n      <th>v3_score</th>\n      <th>v1_v2_score_p</th>\n      <th>v1_v3_score_p</th>\n    </tr>\n    <tr>\n      <th>MiniGame</th>\n      <th></th>\n      <th></th>\n      <th></th>\n      <th></th>\n      <th></th>\n      <th></th>\n      <th></th>\n      <th></th>\n      <th></th>\n      <th></th>\n    </tr>\n  </thead>\n  <tbody>\n    <tr>\n      <th>DOBBLE</th>\n      <td>14.291667</td>\n      <td>13.666667</td>\n      <td>14.958333</td>\n      <td>0.540946</td>\n      <td>0.496399</td>\n      <td>361.666667</td>\n      <td>308.333333</td>\n      <td>366.875000</td>\n      <td>0.191038</td>\n      <td>8.842110e-01</td>\n    </tr>\n    <tr>\n      <th>FLAPPY</th>\n      <td>10.083333</td>\n      <td>10.416667</td>\n      <td>10.875000</td>\n      <td>0.715390</td>\n      <td>0.387468</td>\n      <td>290.833333</td>\n      <td>289.583333</td>\n      <td>363.750000</td>\n      <td>0.676120</td>\n      <td>1.400093e-16</td>\n    </tr>\n    <tr>\n      <th>RUNSHOOT</th>\n      <td>12.416667</td>\n      <td>11.750000</td>\n      <td>14.666667</td>\n      <td>0.416109</td>\n      <td>0.007975</td>\n      <td>119.833333</td>\n      <td>120.833333</td>\n      <td>135.500000</td>\n      <td>0.763221</td>\n      <td>7.181528e-06</td>\n    </tr>\n    <tr>\n      <th>SORTER</th>\n      <td>13.333333</td>\n      <td>12.541667</td>\n      <td>15.041667</td>\n      <td>0.394012</td>\n      <td>0.048538</td>\n      <td>448.333333</td>\n      <td>422.916667</td>\n      <td>259.583333</td>\n      <td>0.444100</td>\n      <td>1.021635e-06</td>\n    </tr>\n  </tbody>\n</table>\n</div>"
     },
     "execution_count": 9,
     "metadata": {},
     "output_type": "execute_result"
    }
   ],
   "source": [
    "#Need to normalise score\n",
    "def minigame_stats(games):\n",
    "    version1 = games[games[\"Version\"] == 1]\n",
    "    version2 = games[games[\"Version\"] == 2]\n",
    "    version3 = games[games[\"Version\"] == 3]\n",
    "    v1_v2_challenge_pvalue = scipy.stats.ttest_ind(version1[\"Challenge\"], version2[\"Challenge\"])[1]\n",
    "    v1_v2_score_pvalue = scipy.stats.ttest_ind(version1[\"Score\"], version2[\"Score\"])[1]\n",
    "    v1_v3_challenge_pvalue = scipy.stats.ttest_ind(version1[\"Challenge\"], version3[\"Challenge\"])[1]\n",
    "    v1_v3_score_pvalue = scipy.stats.ttest_ind(version1[\"Score\"], version3[\"Score\"])[1]\n",
    "\n",
    "    return pd.Series({\"v1_challenge\":version1[\"Challenge\"].mean(),\n",
    "                      \"v2_challenge\":version2[\"Challenge\"].mean(),\n",
    "                      \"v3_challenge\":version3[\"Challenge\"].mean(),\n",
    "                      \"v1_v2_challenge_p\": v1_v2_challenge_pvalue,\n",
    "                      \"v1_v3_challenge_p\": v1_v3_challenge_pvalue,\n",
    "                      \"v1_score\":version1[\"Score\"].mean(),\n",
    "                      \"v2_score\":version2[\"Score\"].mean(),\n",
    "                      \"v3_score\":version3[\"Score\"].mean(),\n",
    "                      \"v1_v2_score_p\": v1_v2_score_pvalue,\n",
    "                      \"v1_v3_score_p\": v1_v3_score_pvalue})\n",
    "\n",
    "sidak_correction_alpha = 1-math.pow(1-0.05,1/4)\n",
    "tests = gameplay_quest.groupby(by=[\"MiniGame\"]).apply(minigame_stats)\n",
    "tests"
   ],
   "metadata": {
    "collapsed": false,
    "pycharm": {
     "name": "#%%\n"
    }
   }
  },
  {
   "cell_type": "code",
   "execution_count": 10,
   "outputs": [
    {
     "data": {
      "text/plain": "'\\\\begin{tabular}{lrrrrrrrrrr}\\n\\\\toprule\\n & v1_challenge & v2_challenge & v3_challenge & v1_v2_challenge_p & v1_v3_challenge_p & v1_score & v2_score & v3_score & v1_v2_score_p & v1_v3_score_p \\\\\\\\\\nMiniGame &  &  &  &  &  &  &  &  &  &  \\\\\\\\\\n\\\\midrule\\nDOBBLE & 14.291667 & 13.666667 & 14.958333 & 0.540946 & 0.496399 & 361.666667 & 308.333333 & 366.875000 & 0.191038 & 0.884211 \\\\\\\\\\nFLAPPY & 10.083333 & 10.416667 & 10.875000 & 0.715390 & 0.387468 & 290.833333 & 289.583333 & 363.750000 & 0.676120 & 0.000000 \\\\\\\\\\nRUNSHOOT & 12.416667 & 11.750000 & 14.666667 & 0.416109 & 0.007975 & 119.833333 & 120.833333 & 135.500000 & 0.763221 & 0.000007 \\\\\\\\\\nSORTER & 13.333333 & 12.541667 & 15.041667 & 0.394012 & 0.048538 & 448.333333 & 422.916667 & 259.583333 & 0.444100 & 0.000001 \\\\\\\\\\n\\\\bottomrule\\n\\\\end{tabular}\\n'"
     },
     "execution_count": 10,
     "metadata": {},
     "output_type": "execute_result"
    }
   ],
   "source": [
    "tests.to_latex()\n"
   ],
   "metadata": {
    "collapsed": false,
    "pycharm": {
     "name": "#%%\n"
    }
   }
  }
 ],
 "metadata": {
  "kernelspec": {
   "display_name": "Python 3",
   "language": "python",
   "name": "python3"
  },
  "language_info": {
   "codemirror_mode": {
    "name": "ipython",
    "version": 2
   },
   "file_extension": ".py",
   "mimetype": "text/x-python",
   "name": "python",
   "nbconvert_exporter": "python",
   "pygments_lexer": "ipython2",
   "version": "2.7.6"
  }
 },
 "nbformat": 4,
 "nbformat_minor": 0
}